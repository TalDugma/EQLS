{
 "cells": [
  {
   "cell_type": "code",
   "execution_count": null,
   "id": "3c31bbfa",
   "metadata": {},
   "outputs": [],
   "source": [
    "import pandas as pd\n",
    "import networkx as nx\n",
    "import json\n",
    "from dowhy import CausalModel\n",
    "import pickle\n",
    "import logging"
   ]
  },
  {
   "cell_type": "code",
   "execution_count": null,
   "id": "625fb905",
   "metadata": {},
   "outputs": [],
   "source": [
    "logging.basicConfig(level=logging.WARNING)"
   ]
  },
  {
   "cell_type": "code",
   "execution_count": 2,
   "id": "cf4c8c9c",
   "metadata": {},
   "outputs": [],
   "source": [
    "with open('../graphs/full_causal.gpickle', 'rb') as f:\n",
    "    causal_graph = pickle.load(f)\n",
    "\n",
    "data = pd.read_csv('/home/paperspace/EQLS-Causal-Project/data/eqls_processed.csv')\n",
    "data = data[list(causal_graph.nodes)]"
   ]
  },
  {
   "cell_type": "code",
   "execution_count": 3,
   "id": "45c577d7",
   "metadata": {},
   "outputs": [],
   "source": [
    "model = CausalModel(\n",
    "    data=data,\n",
    "    treatment=\"Y11_Q57\",\n",
    "    outcome=\"Y11_MWIndex\",\n",
    "    graph=nx.nx_pydot.to_pydot(causal_graph).to_string()\n",
    ")"
   ]
  },
  {
   "cell_type": "code",
   "execution_count": 4,
   "id": "3675abe1",
   "metadata": {},
   "outputs": [
    {
     "name": "stdout",
     "output_type": "stream",
     "text": [
      "Identified estimand: Estimand type: EstimandType.NONPARAMETRIC_ATE\n",
      "\n",
      "### Estimand : 1\n",
      "Estimand name: backdoor\n",
      "Estimand expression:\n",
      "     d                                                                         ↪\n",
      "───────────(E[Y_11_MWIndex|Y11_Agecategory,Y11_EmploymentStatus,Y11_HHsize,Y11 ↪\n",
      "d[Y_11_Q57]                                                                    ↪\n",
      "\n",
      "↪                                                           \n",
      "↪ _Q32,Y11_HH2a,Y11_HHstructure,Y11_Country,Y11_Q7,Y11_Q31])\n",
      "↪                                                           \n",
      "Estimand assumption 1, Unconfoundedness: If U→{Y11_Q57} and U→Y11_MWIndex then P(Y11_MWIndex|Y11_Q57,Y11_Agecategory,Y11_EmploymentStatus,Y11_HHsize,Y11_Q32,Y11_HH2a,Y11_HHstructure,Y11_Country,Y11_Q7,Y11_Q31,U) = P(Y11_MWIndex|Y11_Q57,Y11_Agecategory,Y11_EmploymentStatus,Y11_HHsize,Y11_Q32,Y11_HH2a,Y11_HHstructure,Y11_Country,Y11_Q7,Y11_Q31)\n",
      "\n",
      "### Estimand : 2\n",
      "Estimand name: iv\n",
      "No such variable(s) found!\n",
      "\n",
      "### Estimand : 3\n",
      "Estimand name: frontdoor\n",
      "No such variable(s) found!\n",
      "\n",
      "### Estimand : 4\n",
      "Estimand name: general_adjustment\n",
      "Estimand expression:\n",
      "     d                                                                         ↪\n",
      "───────────(E[Y_11_MWIndex|Y11_Agecategory,Y11_EmploymentStatus,Y11_HHsize,Y11 ↪\n",
      "d[Y_11_Q57]                                                                    ↪\n",
      "\n",
      "↪                                                           \n",
      "↪ _Q32,Y11_HH2a,Y11_HHstructure,Y11_Country,Y11_Q7,Y11_Q31])\n",
      "↪                                                           \n",
      "Estimand assumption 1, Unconfoundedness: If U→{Y11_Q57} and U→Y11_MWIndex then P(Y11_MWIndex|Y11_Q57,Y11_Agecategory,Y11_EmploymentStatus,Y11_HHsize,Y11_Q32,Y11_HH2a,Y11_HHstructure,Y11_Country,Y11_Q7,Y11_Q31,U) = P(Y11_MWIndex|Y11_Q57,Y11_Agecategory,Y11_EmploymentStatus,Y11_HHsize,Y11_Q32,Y11_HH2a,Y11_HHstructure,Y11_Country,Y11_Q7,Y11_Q31)\n",
      "\n"
     ]
    }
   ],
   "source": [
    "estimand = model.identify_effect()\n",
    "print(\"Identified estimand:\", estimand)"
   ]
  },
  {
   "cell_type": "code",
   "execution_count": 5,
   "id": "fd1c43c9",
   "metadata": {},
   "outputs": [
    {
     "name": "stdout",
     "output_type": "stream",
     "text": [
      "*** Causal Estimate ***\n",
      "\n",
      "## Identified estimand\n",
      "Estimand type: EstimandType.NONPARAMETRIC_ATE\n",
      "\n",
      "### Estimand : 1\n",
      "Estimand name: backdoor\n",
      "Estimand expression:\n",
      "     d                                                                         ↪\n",
      "───────────(E[Y_11_MWIndex|Y11_Agecategory,Y11_EmploymentStatus,Y11_HHsize,Y11 ↪\n",
      "d[Y_11_Q57]                                                                    ↪\n",
      "\n",
      "↪                                                           \n",
      "↪ _Q32,Y11_HH2a,Y11_HHstructure,Y11_Country,Y11_Q7,Y11_Q31])\n",
      "↪                                                           \n",
      "Estimand assumption 1, Unconfoundedness: If U→{Y11_Q57} and U→Y11_MWIndex then P(Y11_MWIndex|Y11_Q57,Y11_Agecategory,Y11_EmploymentStatus,Y11_HHsize,Y11_Q32,Y11_HH2a,Y11_HHstructure,Y11_Country,Y11_Q7,Y11_Q31,U) = P(Y11_MWIndex|Y11_Q57,Y11_Agecategory,Y11_EmploymentStatus,Y11_HHsize,Y11_Q32,Y11_HH2a,Y11_HHstructure,Y11_Country,Y11_Q7,Y11_Q31)\n",
      "\n",
      "## Realized estimand\n",
      "b: Y11_MWIndex~Y11_Q57+Y11_Agecategory+Y11_EmploymentStatus+Y11_HHsize+Y11_Q32+Y11_HH2a+Y11_HHstructure+Y11_Country+Y11_Q7+Y11_Q31\n",
      "Target units: ate\n",
      "\n",
      "## Estimate\n",
      "Mean value: 4.270291883246701\n",
      "\n"
     ]
    },
    {
     "name": "stderr",
     "output_type": "stream",
     "text": [
      "/home/paperspace/EQLS-Causal-Project/.venv/lib/python3.10/site-packages/sklearn/linear_model/_logistic.py:470: ConvergenceWarning: lbfgs failed to converge after 100 iteration(s) (status=1):\n",
      "STOP: TOTAL NO. OF ITERATIONS REACHED LIMIT\n",
      "\n",
      "Increase the number of iterations to improve the convergence (max_iter=100).\n",
      "You might also want to scale the data as shown in:\n",
      "    https://scikit-learn.org/stable/modules/preprocessing.html\n",
      "Please also refer to the documentation for alternative solver options:\n",
      "    https://scikit-learn.org/stable/modules/linear_model.html#logistic-regression\n",
      "  n_iter_i = _check_optimize_result(\n"
     ]
    }
   ],
   "source": [
    "estimate = model.estimate_effect(estimand,\n",
    "                                 method_name=\"backdoor.propensity_score_matching\")\n",
    "print(estimate)"
   ]
  },
  {
   "cell_type": "code",
   "execution_count": 6,
   "id": "c1222909",
   "metadata": {},
   "outputs": [
    {
     "name": "stdout",
     "output_type": "stream",
     "text": [
      "Refute: Use a Placebo Treatment\n",
      "Estimated effect:4.270291883246701\n",
      "New effect:-0.02141314902610384\n",
      "p value:0.88\n",
      "\n"
     ]
    }
   ],
   "source": [
    "refute_results = model.refute_estimate(estimand, estimate,\n",
    "                                       method_name=\"placebo_treatment_refuter\")\n",
    "print(refute_results)"
   ]
  },
  {
   "cell_type": "code",
   "execution_count": 7,
   "id": "a49a8ec0",
   "metadata": {},
   "outputs": [
    {
     "name": "stdout",
     "output_type": "stream",
     "text": [
      "Refute: Use a subset of data\n",
      "Estimated effect:4.270291883246701\n",
      "New effect:4.241636441525061\n",
      "p value:0.74\n",
      "\n"
     ]
    }
   ],
   "source": [
    "refute_results = model.refute_estimate(estimand, estimate,\n",
    "                                       method_name=\"data_subset_refuter\",)\n",
    "print(refute_results)"
   ]
  }
 ],
 "metadata": {
  "kernelspec": {
   "display_name": "EQLS-Causal-Project",
   "language": "python",
   "name": "python3"
  },
  "language_info": {
   "codemirror_mode": {
    "name": "ipython",
    "version": 3
   },
   "file_extension": ".py",
   "mimetype": "text/x-python",
   "name": "python",
   "nbconvert_exporter": "python",
   "pygments_lexer": "ipython3",
   "version": "3.10.12"
  }
 },
 "nbformat": 4,
 "nbformat_minor": 5
}
