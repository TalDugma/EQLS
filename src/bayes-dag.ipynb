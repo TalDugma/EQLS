{
 "cells": [
  {
   "cell_type": "code",
   "execution_count": 45,
   "id": "b1358070",
   "metadata": {},
   "outputs": [],
   "source": [
    "import networkx as nx\n",
    "from dowhy import CausalModel\n",
    "import pandas as pd\n",
    "import json\n",
    "import pickle\n",
    "from collections import defaultdict"
   ]
  },
  {
   "cell_type": "code",
   "execution_count": 46,
   "id": "1a52ed38",
   "metadata": {},
   "outputs": [],
   "source": [
    "# Build your graph_dict\n",
    "graph_dict = {\n",
    "    \"Satisfaction\": {\"Y\"},\n",
    "    \"Health\": {\"Education\", \"Employment\", \"Satisfaction\", \"Y\"},\n",
    "    \"Living Environment\": {\"Satisfaction\", \"Y\"},\n",
    "    \"Employment\": {\"Satisfaction\", \"Living Environment\", \"T\"},\n",
    "    \"Education\": {\"Satisfaction\", \"Employment\"},\n",
    "    \"Demographics\": {\n",
    "        \"Satisfaction\",\n",
    "        \"Health\",\n",
    "        \"Living Environment\",\n",
    "        \"Employment\",\n",
    "        \"Education\",\n",
    "        \"T\",\n",
    "        \"Y\",\n",
    "    },\n",
    "    \"T\": {\"Y\", \"Living Environment\", \"Satisfaction\"},\n",
    "    \"Y\": set(),\n",
    "}\n",
    "\n",
    "all_nodes = set(graph_dict.keys())\n",
    "\n",
    "# Build NetworkX DiGraph\n",
    "G = nx.DiGraph()\n",
    "for src, targets in graph_dict.items():\n",
    "    for tgt in targets:\n",
    "        G.add_edge(src, tgt)\n",
    "\n",
    "# Create dummy data with correct column names\n",
    "df = pd.DataFrame(columns=G.nodes)\n",
    "\n",
    "# Convert to DOT string using pydot\n",
    "dot_str = nx.nx_pydot.to_pydot(G).to_string()"
   ]
  },
  {
   "cell_type": "code",
   "execution_count": 47,
   "id": "1774ef83",
   "metadata": {},
   "outputs": [],
   "source": [
    "data_dictionary = json.load(open(\"/home/paperspace/EQLS-Causal-Project/data/dictionary.json\", \"r\"))\n",
    "\n",
    "group_to_vars = defaultdict(list)\n",
    "for var, info in data_dictionary.items():\n",
    "    group = info.get(\"variable_group\")\n",
    "    if group:\n",
    "        group_to_vars[group].append(var)\n",
    "\n",
    "# Step 4: Build variable-level DAG according to cluster DAG\n",
    "disconnected_within = nx.DiGraph()\n",
    "\n",
    "# Add all variables as nodes\n",
    "for var in data_dictionary:\n",
    "    disconnected_within.add_node(var)\n",
    "\n",
    "# For each edge Cluster_A -> Cluster_B in G,\n",
    "# add edges var_A -> var_B for all var_A in Cluster_A and var_B in Cluster_B\n",
    "for cluster_a, cluster_b in G.edges():\n",
    "    for var_a in group_to_vars.get(cluster_a, []):\n",
    "        for var_b in group_to_vars.get(cluster_b, []):\n",
    "            if var_a != var_b:  # ensure no self-loop\n",
    "                disconnected_within.add_edge(var_a, var_b)\n",
    "\n",
    "\n",
    "# Remove ['Y11_Q44', 'Y11_Q40b', 'Y11_Strainbasedconflict', 'Y11_Q15', 'Y11_Q16', 'Y11_Q12a']\n",
    "# As they have missing values in the dataset\n",
    "for node in ['Y11_Q44', 'Y11_Q40b', 'Y11_Strainbasedconflict', 'Y11_Q15', 'Y11_Q16', 'Y11_Q12a']:\n",
    "    if node in disconnected_within:\n",
    "        disconnected_within.remove_node(node)\n",
    "\n",
    "# Step 5: Verify acyclicity\n",
    "assert nx.is_directed_acyclic_graph(disconnected_within), \"Graph has cycles!\""
   ]
  },
  {
   "cell_type": "code",
   "execution_count": 48,
   "id": "cafe707e",
   "metadata": {},
   "outputs": [
    {
     "name": "stdout",
     "output_type": "stream",
     "text": [
      "Backdoor variables: ['Demographics', 'Employment']\n",
      "Instrumental variables: []\n",
      "Frontdoor variables: []\n"
     ]
    }
   ],
   "source": [
    "# Feed into DoWhy\n",
    "model = CausalModel(data=df, treatment=\"T\", outcome=\"Y\", graph=dot_str)\n",
    "\n",
    "# Identify effect\n",
    "identified_estimand = model.identify_effect()\n",
    "\n",
    "print(\"Backdoor variables:\", identified_estimand.backdoor_variables['backdoor'])\n",
    "print(\"Instrumental variables:\", identified_estimand.instrumental_variables)\n",
    "print(\"Frontdoor variables:\", identified_estimand.frontdoor_variables)"
   ]
  },
  {
   "cell_type": "code",
   "execution_count": 49,
   "id": "639b0d09",
   "metadata": {},
   "outputs": [],
   "source": [
    "# Visualize the graph\n",
    "G_viz = nx.nx_agraph.to_agraph(G)\n",
    "G_viz.draw(\"../figs/conceptual_causal_model.svg\", prog='dot')"
   ]
  },
  {
   "cell_type": "code",
   "execution_count": 53,
   "id": "a76cf29a",
   "metadata": {},
   "outputs": [],
   "source": [
    "# Plot the graph using pygraphviz\n",
    "disconnected_within_viz = nx.nx_agraph.to_agraph(disconnected_within)\n",
    "disconnected_within_viz.draw(\"../figs/full_causal_model.svg\", args='-Gsize=5 -Gratio=1.5 -Nfontsize=50', prog='dot')"
   ]
  },
  {
   "cell_type": "code",
   "execution_count": 51,
   "id": "d760d3f6",
   "metadata": {},
   "outputs": [
    {
     "data": {
      "text/plain": [
       "['Y11_EmploymentStatus',\n",
       " 'Y11_HHstructure',\n",
       " 'Y11_HHsize',\n",
       " 'Y11_Agecategory',\n",
       " 'Y11_Q7',\n",
       " 'Y11_Q31',\n",
       " 'Y11_Country',\n",
       " 'Y11_Q32',\n",
       " 'Y11_HH2a']"
      ]
     },
     "execution_count": 51,
     "metadata": {},
     "output_type": "execute_result"
    }
   ],
   "source": [
    "CausalModel(data=pd.DataFrame(columns=disconnected_within.nodes),\n",
    "            treatment=\"Y11_Q57\",\n",
    "            outcome=\"Y11_MWIndex\",\n",
    "            graph=nx.nx_pydot.to_pydot(disconnected_within).to_string()).identify_effect().backdoor_variables['backdoor']"
   ]
  },
  {
   "cell_type": "code",
   "execution_count": 52,
   "id": "dca17eea",
   "metadata": {},
   "outputs": [],
   "source": [
    "with open('../graphs/full_causal.gpickle', 'wb') as f:\n",
    "    pickle.dump(disconnected_within, f, pickle.HIGHEST_PROTOCOL)"
   ]
  }
 ],
 "metadata": {
  "kernelspec": {
   "display_name": "EQLS-Causal-Project",
   "language": "python",
   "name": "python3"
  },
  "language_info": {
   "codemirror_mode": {
    "name": "ipython",
    "version": 3
   },
   "file_extension": ".py",
   "mimetype": "text/x-python",
   "name": "python",
   "nbconvert_exporter": "python",
   "pygments_lexer": "ipython3",
   "version": "3.10.12"
  }
 },
 "nbformat": 4,
 "nbformat_minor": 5
}
