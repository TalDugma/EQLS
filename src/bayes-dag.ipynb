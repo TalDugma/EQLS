{
 "cells": [
  {
   "cell_type": "code",
   "execution_count": null,
   "id": "b1358070",
   "metadata": {},
   "outputs": [
    {
     "name": "stderr",
     "output_type": "stream",
     "text": [
      "c:\\Zvi\\DS Technion\\.97400 - Causal Inference\\Assignments\\Project\\.venv\\Lib\\site-packages\\dowhy\\causal_graph.py:83: SyntaxWarning: invalid escape sequence '\\s'\n",
      "  elif re.match(\".*graph\\s*\\[.*\\]\\s*\", graph):\n"
     ]
    },
    {
     "ename": "TypeError",
     "evalue": "Graph.get_strict() takes 1 positional argument but 2 were given",
     "output_type": "error",
     "traceback": [
      "\u001b[31m---------------------------------------------------------------------------\u001b[39m",
      "\u001b[31mModuleNotFoundError\u001b[39m                       Traceback (most recent call last)",
      "\u001b[36mFile \u001b[39m\u001b[32mc:\\Zvi\\DS Technion\\.97400 - Causal Inference\\Assignments\\Project\\.venv\\Lib\\site-packages\\dowhy\\causal_graph.py:71\u001b[39m, in \u001b[36mCausalGraph.__init__\u001b[39m\u001b[34m(self, treatment_name, outcome_name, graph, common_cause_names, instrument_names, effect_modifier_names, mediator_names, observed_node_names, missing_nodes_as_confounders)\u001b[39m\n\u001b[32m     70\u001b[39m \u001b[38;5;28;01mtry\u001b[39;00m:\n\u001b[32m---> \u001b[39m\u001b[32m71\u001b[39m     \u001b[38;5;28;01mimport\u001b[39;00m\u001b[38;5;250m \u001b[39m\u001b[34;01mpygraphviz\u001b[39;00m\u001b[38;5;250m \u001b[39m\u001b[38;5;28;01mas\u001b[39;00m\u001b[38;5;250m \u001b[39m\u001b[34;01mpgv\u001b[39;00m\n\u001b[32m     72\u001b[39m     \u001b[38;5;28mself\u001b[39m._graph = pgv.AGraph(graph, strict=\u001b[38;5;28;01mTrue\u001b[39;00m, directed=\u001b[38;5;28;01mTrue\u001b[39;00m)\n",
      "\u001b[31mModuleNotFoundError\u001b[39m: No module named 'pygraphviz'",
      "\nDuring handling of the above exception, another exception occurred:\n",
      "\u001b[31mTypeError\u001b[39m                                 Traceback (most recent call last)",
      "\u001b[36mCell\u001b[39m\u001b[36m \u001b[39m\u001b[32mIn[1]\u001b[39m\u001b[32m, line 32\u001b[39m\n\u001b[32m     29\u001b[39m dot_str = nx.nx_pydot.to_pydot(G).to_string()\n\u001b[32m     31\u001b[39m \u001b[38;5;66;03m# Feed into DoWhy\u001b[39;00m\n\u001b[32m---> \u001b[39m\u001b[32m32\u001b[39m model = \u001b[43mCausalModel\u001b[49m\u001b[43m(\u001b[49m\n\u001b[32m     33\u001b[39m \u001b[43m    \u001b[49m\u001b[43mdata\u001b[49m\u001b[43m=\u001b[49m\u001b[43mdf\u001b[49m\u001b[43m,\u001b[49m\n\u001b[32m     34\u001b[39m \u001b[43m    \u001b[49m\u001b[43mtreatment\u001b[49m\u001b[43m=\u001b[49m\u001b[33;43m\"\u001b[39;49m\u001b[33;43mT\u001b[39;49m\u001b[33;43m\"\u001b[39;49m\u001b[43m,\u001b[49m\n\u001b[32m     35\u001b[39m \u001b[43m    \u001b[49m\u001b[43moutcome\u001b[49m\u001b[43m=\u001b[49m\u001b[33;43m\"\u001b[39;49m\u001b[33;43mY\u001b[39;49m\u001b[33;43m\"\u001b[39;49m\u001b[43m,\u001b[49m\n\u001b[32m     36\u001b[39m \u001b[43m    \u001b[49m\u001b[43mgraph\u001b[49m\u001b[43m=\u001b[49m\u001b[43mdot_str\u001b[49m\n\u001b[32m     37\u001b[39m \u001b[43m)\u001b[49m\n\u001b[32m     39\u001b[39m \u001b[38;5;66;03m# Identify effect\u001b[39;00m\n\u001b[32m     40\u001b[39m identified_estimand = model.identify_effect()\n",
      "\u001b[36mFile \u001b[39m\u001b[32mc:\\Zvi\\DS Technion\\.97400 - Causal Inference\\Assignments\\Project\\.venv\\Lib\\site-packages\\dowhy\\causal_model.py:109\u001b[39m, in \u001b[36mCausalModel.__init__\u001b[39m\u001b[34m(self, data, treatment, outcome, graph, common_causes, instruments, effect_modifiers, estimand_type, proceed_when_unidentifiable, missing_nodes_as_confounders, identify_vars, **kwargs)\u001b[39m\n\u001b[32m    102\u001b[39m         \u001b[38;5;28mself\u001b[39m._graph = CausalGraph(\n\u001b[32m    103\u001b[39m             \u001b[38;5;28mself\u001b[39m._treatment,\n\u001b[32m    104\u001b[39m             \u001b[38;5;28mself\u001b[39m._outcome,\n\u001b[32m    105\u001b[39m             effect_modifier_names = \u001b[38;5;28mself\u001b[39m._effect_modifiers,\n\u001b[32m    106\u001b[39m             observed_node_names=\u001b[38;5;28mself\u001b[39m._data.columns.tolist()\n\u001b[32m    107\u001b[39m         )\n\u001b[32m    108\u001b[39m \u001b[38;5;28;01melse\u001b[39;00m:\n\u001b[32m--> \u001b[39m\u001b[32m109\u001b[39m     \u001b[38;5;28;43mself\u001b[39;49m\u001b[43m.\u001b[49m\u001b[43minit_graph\u001b[49m\u001b[43m(\u001b[49m\u001b[43mgraph\u001b[49m\u001b[43m=\u001b[49m\u001b[43mgraph\u001b[49m\u001b[43m,\u001b[49m\u001b[43m \u001b[49m\u001b[43midentify_vars\u001b[49m\u001b[43m=\u001b[49m\u001b[43midentify_vars\u001b[49m\u001b[43m)\u001b[49m\n\u001b[32m    111\u001b[39m \u001b[38;5;28mself\u001b[39m._other_variables = kwargs\n\u001b[32m    112\u001b[39m \u001b[38;5;28mself\u001b[39m.summary()\n",
      "\u001b[36mFile \u001b[39m\u001b[32mc:\\Zvi\\DS Technion\\.97400 - Causal Inference\\Assignments\\Project\\.venv\\Lib\\site-packages\\dowhy\\causal_model.py:120\u001b[39m, in \u001b[36mCausalModel.init_graph\u001b[39m\u001b[34m(self, graph, identify_vars)\u001b[39m\n\u001b[32m    115\u001b[39m \u001b[38;5;250m\u001b[39m\u001b[33;03m'''\u001b[39;00m\n\u001b[32m    116\u001b[39m \u001b[33;03mInitialize self._graph using graph provided by the user.\u001b[39;00m\n\u001b[32m    117\u001b[39m \n\u001b[32m    118\u001b[39m \u001b[33;03m'''\u001b[39;00m\n\u001b[32m    119\u001b[39m \u001b[38;5;66;03m# Create causal graph object\u001b[39;00m\n\u001b[32m--> \u001b[39m\u001b[32m120\u001b[39m \u001b[38;5;28mself\u001b[39m._graph = \u001b[43mCausalGraph\u001b[49m\u001b[43m(\u001b[49m\n\u001b[32m    121\u001b[39m \u001b[43m    \u001b[49m\u001b[38;5;28;43mself\u001b[39;49m\u001b[43m.\u001b[49m\u001b[43m_treatment\u001b[49m\u001b[43m,\u001b[49m\n\u001b[32m    122\u001b[39m \u001b[43m    \u001b[49m\u001b[38;5;28;43mself\u001b[39;49m\u001b[43m.\u001b[49m\u001b[43m_outcome\u001b[49m\u001b[43m,\u001b[49m\n\u001b[32m    123\u001b[39m \u001b[43m    \u001b[49m\u001b[43mgraph\u001b[49m\u001b[43m,\u001b[49m\n\u001b[32m    124\u001b[39m \u001b[43m    \u001b[49m\u001b[43meffect_modifier_names\u001b[49m\u001b[43m=\u001b[49m\u001b[38;5;28;43mself\u001b[39;49m\u001b[43m.\u001b[49m\u001b[43m_effect_modifiers\u001b[49m\u001b[43m,\u001b[49m\n\u001b[32m    125\u001b[39m \u001b[43m    \u001b[49m\u001b[43mobserved_node_names\u001b[49m\u001b[43m=\u001b[49m\u001b[38;5;28;43mself\u001b[39;49m\u001b[43m.\u001b[49m\u001b[43m_data\u001b[49m\u001b[43m.\u001b[49m\u001b[43mcolumns\u001b[49m\u001b[43m.\u001b[49m\u001b[43mtolist\u001b[49m\u001b[43m(\u001b[49m\u001b[43m)\u001b[49m\u001b[43m,\u001b[49m\n\u001b[32m    126\u001b[39m \u001b[43m    \u001b[49m\u001b[43mmissing_nodes_as_confounders\u001b[49m\u001b[43m \u001b[49m\u001b[43m=\u001b[49m\u001b[43m \u001b[49m\u001b[38;5;28;43mself\u001b[39;49m\u001b[43m.\u001b[49m\u001b[43m_missing_nodes_as_confounders\u001b[49m\n\u001b[32m    127\u001b[39m \u001b[43m\u001b[49m\u001b[43m)\u001b[49m\n\u001b[32m    129\u001b[39m \u001b[38;5;28;01mif\u001b[39;00m identify_vars:\n\u001b[32m    130\u001b[39m     \u001b[38;5;28mself\u001b[39m._common_causes = \u001b[38;5;28mself\u001b[39m._graph.get_common_causes(\u001b[38;5;28mself\u001b[39m._treatment, \u001b[38;5;28mself\u001b[39m._outcome)\n",
      "\u001b[36mFile \u001b[39m\u001b[32mc:\\Zvi\\DS Technion\\.97400 - Causal Inference\\Assignments\\Project\\.venv\\Lib\\site-packages\\dowhy\\causal_graph.py:82\u001b[39m, in \u001b[36mCausalGraph.__init__\u001b[39m\u001b[34m(self, treatment_name, outcome_name, graph, common_cause_names, instrument_names, effect_modifier_names, mediator_names, observed_node_names, missing_nodes_as_confounders)\u001b[39m\n\u001b[32m     80\u001b[39m         \u001b[38;5;28;01mexcept\u001b[39;00m \u001b[38;5;167;01mException\u001b[39;00m \u001b[38;5;28;01mas\u001b[39;00m e:\n\u001b[32m     81\u001b[39m             \u001b[38;5;28mself\u001b[39m.logger.error(\u001b[33m\"\u001b[39m\u001b[33mError: Pydot cannot be loaded. \u001b[39m\u001b[33m\"\u001b[39m + \u001b[38;5;28mstr\u001b[39m(e))\n\u001b[32m---> \u001b[39m\u001b[32m82\u001b[39m             \u001b[38;5;28;01mraise\u001b[39;00m e\n\u001b[32m     83\u001b[39m \u001b[38;5;28;01melif\u001b[39;00m re.match(\u001b[33m\"\u001b[39m\u001b[33m.*graph\u001b[39m\u001b[33m\\\u001b[39m\u001b[33ms*\u001b[39m\u001b[33m\\\u001b[39m\u001b[33m[.*\u001b[39m\u001b[33m\\\u001b[39m\u001b[33m]\u001b[39m\u001b[33m\\\u001b[39m\u001b[33ms*\u001b[39m\u001b[33m\"\u001b[39m, graph):\n\u001b[32m     84\u001b[39m     \u001b[38;5;28mself\u001b[39m._graph = nx.DiGraph(nx.parse_gml(graph))\n",
      "\u001b[36mFile \u001b[39m\u001b[32mc:\\Zvi\\DS Technion\\.97400 - Causal Inference\\Assignments\\Project\\.venv\\Lib\\site-packages\\dowhy\\causal_graph.py:79\u001b[39m, in \u001b[36mCausalGraph.__init__\u001b[39m\u001b[34m(self, treatment_name, outcome_name, graph, common_cause_names, instrument_names, effect_modifier_names, mediator_names, observed_node_names, missing_nodes_as_confounders)\u001b[39m\n\u001b[32m     77\u001b[39m     \u001b[38;5;28;01mimport\u001b[39;00m\u001b[38;5;250m \u001b[39m\u001b[34;01mpydot\u001b[39;00m\n\u001b[32m     78\u001b[39m     P_list = pydot.graph_from_dot_data(graph)\n\u001b[32m---> \u001b[39m\u001b[32m79\u001b[39m     \u001b[38;5;28mself\u001b[39m._graph = \u001b[43mnx\u001b[49m\u001b[43m.\u001b[49m\u001b[43mdrawing\u001b[49m\u001b[43m.\u001b[49m\u001b[43mnx_pydot\u001b[49m\u001b[43m.\u001b[49m\u001b[43mfrom_pydot\u001b[49m\u001b[43m(\u001b[49m\u001b[43mP_list\u001b[49m\u001b[43m[\u001b[49m\u001b[32;43m0\u001b[39;49m\u001b[43m]\u001b[49m\u001b[43m)\u001b[49m\n\u001b[32m     80\u001b[39m \u001b[38;5;28;01mexcept\u001b[39;00m \u001b[38;5;167;01mException\u001b[39;00m \u001b[38;5;28;01mas\u001b[39;00m e:\n\u001b[32m     81\u001b[39m     \u001b[38;5;28mself\u001b[39m.logger.error(\u001b[33m\"\u001b[39m\u001b[33mError: Pydot cannot be loaded. \u001b[39m\u001b[33m\"\u001b[39m + \u001b[38;5;28mstr\u001b[39m(e))\n",
      "\u001b[36mFile \u001b[39m\u001b[32mc:\\Zvi\\DS Technion\\.97400 - Causal Inference\\Assignments\\Project\\.venv\\Lib\\site-packages\\networkx\\drawing\\nx_pydot.py:128\u001b[39m, in \u001b[36mfrom_pydot\u001b[39m\u001b[34m(P)\u001b[39m\n\u001b[32m    121\u001b[39m msg = (\n\u001b[32m    122\u001b[39m     \u001b[33m\"\u001b[39m\u001b[33mnx.nx_pydot.from_pydot depends on the pydot package, which has\u001b[39m\u001b[33m\"\u001b[39m\n\u001b[32m    123\u001b[39m     \u001b[33m\"\u001b[39m\u001b[33mknown issues and is not actively maintained.\u001b[39m\u001b[38;5;130;01m\\n\u001b[39;00m\u001b[38;5;130;01m\\n\u001b[39;00m\u001b[33m\"\u001b[39m\n\u001b[32m    124\u001b[39m     \u001b[33m\"\u001b[39m\u001b[33mSee https://github.com/networkx/networkx/issues/5723\u001b[39m\u001b[33m\"\u001b[39m\n\u001b[32m    125\u001b[39m )\n\u001b[32m    126\u001b[39m warnings.warn(msg, \u001b[38;5;167;01mPendingDeprecationWarning\u001b[39;00m, stacklevel=\u001b[32m2\u001b[39m)\n\u001b[32m--> \u001b[39m\u001b[32m128\u001b[39m \u001b[38;5;28;01mif\u001b[39;00m \u001b[43mP\u001b[49m\u001b[43m.\u001b[49m\u001b[43mget_strict\u001b[49m\u001b[43m(\u001b[49m\u001b[38;5;28;43;01mNone\u001b[39;49;00m\u001b[43m)\u001b[49m:  \u001b[38;5;66;03m# pydot bug: get_strict() shouldn't take argument\u001b[39;00m\n\u001b[32m    129\u001b[39m     multiedges = \u001b[38;5;28;01mFalse\u001b[39;00m\n\u001b[32m    130\u001b[39m \u001b[38;5;28;01melse\u001b[39;00m:\n",
      "\u001b[31mTypeError\u001b[39m: Graph.get_strict() takes 1 positional argument but 2 were given"
     ]
    }
   ],
   "source": [
    "import networkx as nx\n",
    "from dowhy import CausalModel\n",
    "import pandas as pd\n",
    "\n",
    "# Build your graph_dict\n",
    "graph_dict = {\n",
    "    \"Satisfaction\": {\"Y\"},\n",
    "    \"Health\": {\"Education\", \"Employment\", \"Satisfaction\", \"Y\"},\n",
    "    \"Living_Environment\": {\"Satisfaction\", \"Y\"},\n",
    "    \"Employment\": {\"Satisfaction\", \"Living_Environment\", \"T\"},\n",
    "    \"Education\": {\"Satisfaction\", \"Employment\"},\n",
    "    \"Demographics\": {\n",
    "        \"Satisfaction\",\n",
    "        \"Health\",\n",
    "        \"Living_Environment\",\n",
    "        \"Employment\",\n",
    "        \"Education\",\n",
    "        \"T\",\n",
    "        \"Y\",\n",
    "    },\n",
    "    \"T\": {\"Y\", \"Living_Environment\", \"Satisfaction\"},\n",
    "    \"Y\": set(),\n",
    "}\n",
    "\n",
    "all_nodes = set(graph_dict.keys())\n",
    "\n",
    "# Build NetworkX DiGraph\n",
    "G = nx.DiGraph()\n",
    "for src, targets in graph_dict.items():\n",
    "    for tgt in targets:\n",
    "        G.add_edge(src, tgt)\n",
    "\n",
    "# Create dummy data with correct column names\n",
    "df = pd.DataFrame(columns=G.nodes)\n",
    "\n",
    "# Convert to DOT string using pydot\n",
    "dot_str = nx.nx_pydot.to_pydot(G).to_string()\n",
    "\n",
    "# Feed into DoWhy\n",
    "model = CausalModel(data=df, treatment=\"T\", outcome=\"Y\", graph=dot_str)\n",
    "\n",
    "# Identify effect\n",
    "identified_estimand = model.identify_effect()\n",
    "\n",
    "# Print the result\n",
    "print(\"Minimal backdoor adjustment set:\", identified_estimand.backdoor_variables)"
   ]
  }
 ],
 "metadata": {
  "kernelspec": {
   "display_name": "Project",
   "language": "python",
   "name": "python3"
  },
  "language_info": {
   "codemirror_mode": {
    "name": "ipython",
    "version": 3
   },
   "file_extension": ".py",
   "mimetype": "text/x-python",
   "name": "python",
   "nbconvert_exporter": "python",
   "pygments_lexer": "ipython3",
   "version": "3.13.3"
  }
 },
 "nbformat": 4,
 "nbformat_minor": 5
}
