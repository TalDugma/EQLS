{
 "cells": [
  {
   "cell_type": "code",
   "execution_count": 9,
   "id": "96ccd6b0",
   "metadata": {},
   "outputs": [],
   "source": [
    "import json\n",
    "import pandas as pd"
   ]
  },
  {
   "cell_type": "code",
   "execution_count": 10,
   "id": "9219bb6e",
   "metadata": {},
   "outputs": [],
   "source": [
    "data_dict = json.load(open(\"data/dictionary.json\", \"r\"))\n",
    "data_dict = pd.DataFrame(data_dict).T"
   ]
  },
  {
   "cell_type": "code",
   "execution_count": 11,
   "id": "cee59392",
   "metadata": {},
   "outputs": [
    {
     "data": {
      "application/vnd.microsoft.datawrangler.viewer.v0+json": {
       "columns": [
        {
         "name": "index",
         "rawType": "object",
         "type": "string"
        },
        {
         "name": "description",
         "rawType": "object",
         "type": "string"
        }
       ],
       "ref": "3dc517f0-6c28-46ba-9e34-72d258b91325",
       "rows": [
        [
         "Y11_MWIndex",
         "WHO-5 mental wellbeing index"
        ],
        [
         "Y11_Q57",
         "Perception of financial situation (vs. most people in country)"
        ],
        [
         "Y11_Country",
         "Country of residence"
        ],
        [
         "Y11_Q31",
         "Marital status"
        ],
        [
         "Y11_Education",
         "Highest level of education completed"
        ],
        [
         "Y11_Agecategory",
         "Age category of respondent"
        ],
        [
         "Y11_HH2a",
         "Gender of respondent"
        ],
        [
         "Y11_HHstructure",
         "Household structure"
        ],
        [
         "Y11_Q49",
         "Type of area respondent lives in"
        ],
        [
         "Y11_Q42",
         "Self-rated general health"
        ],
        [
         "Y11_Q18",
         "Accommodation tenure type"
        ],
        [
         "Y11_Q58",
         "Household's ability to make ends meet"
        ],
        [
         "Y11_Q44",
         "Limitation caused by chronic health condition"
        ],
        [
         "Y11_Q29a",
         "Optimism about the future"
        ],
        [
         "Wave",
         "Survey wave year"
        ],
        [
         "Y11_Q32",
         "Number of children"
        ],
        [
         "Y11_HHsize",
         "Household size including children"
        ],
        [
         "Y11_Accommproblems",
         "Number of accommodation problems"
        ],
        [
         "Y11_SocExIndex",
         "Social Exclusion Index"
        ],
        [
         "Y11_Q41",
         "Overall happiness score"
        ],
        [
         "Y11_Q30",
         "Life satisfaction"
        ],
        [
         "Y11_Q40a",
         "Satisfaction with education"
        ],
        [
         "Y11_Q40b",
         "Satisfaction with present job"
        ],
        [
         "Y11_Q40c",
         "Satisfaction with standard of living"
        ],
        [
         "Y11_Q40d",
         "Satisfaction with accommodation"
        ],
        [
         "Y11_Q40e",
         "Satisfaction with family life"
        ],
        [
         "Y11_Q40f",
         "Satisfaction with health"
        ],
        [
         "Y11_Q40g",
         "Satisfaction with social life"
        ],
        [
         "Y11_Q7",
         "Hours worked per week in main job"
        ],
        [
         "Y11_Q24",
         "Perception that most people can be trusted"
        ],
        [
         "Y11_EmploymentStatus",
         "Employment status"
        ],
        [
         "Y11_Incomequartiles_percapita",
         "Equivalised household-income quartile"
        ],
        [
         "Y11_Deprindex",
         "Material-deprivation index (count of items the household cannot afford)"
        ],
        [
         "Y11_RuralUrban",
         "Area type: rural vs. urban"
        ],
        [
         "Y11_Strainbasedconflict",
         "Work-life balance conflict"
        ],
        [
         "Y11_Q52",
         "Total daily commuting time (minutes)"
        ],
        [
         "Y11_Q15",
         "Perceived likelihood of losing current job in next 6 months"
        ],
        [
         "Y11_Q16",
         "Perceived chance of finding a similar-salary job if current job lost"
        ],
        [
         "Y11_Q12a",
         "Frequency of coming home from work too tired for household chores"
        ],
        [
         "Y11_Q50d",
         "Neighbourhood problem: crime, violence or vandalism"
        ],
        [
         "Y11_Q53a",
         "Perceived quality of health services"
        ],
        [
         "Y11_Q25a",
         "Perceived tension between poor and rich in country"
        ]
       ],
       "shape": {
        "columns": 1,
        "rows": 42
       }
      },
      "text/plain": [
       "Y11_MWIndex                                           WHO-5 mental wellbeing index\n",
       "Y11_Q57                          Perception of financial situation (vs. most pe...\n",
       "Y11_Country                                                   Country of residence\n",
       "Y11_Q31                                                             Marital status\n",
       "Y11_Education                                 Highest level of education completed\n",
       "Y11_Agecategory                                         Age category of respondent\n",
       "Y11_HH2a                                                      Gender of respondent\n",
       "Y11_HHstructure                                                Household structure\n",
       "Y11_Q49                                           Type of area respondent lives in\n",
       "Y11_Q42                                                  Self-rated general health\n",
       "Y11_Q18                                                  Accommodation tenure type\n",
       "Y11_Q58                                      Household's ability to make ends meet\n",
       "Y11_Q44                              Limitation caused by chronic health condition\n",
       "Y11_Q29a                                                 Optimism about the future\n",
       "Wave                                                              Survey wave year\n",
       "Y11_Q32                                                         Number of children\n",
       "Y11_HHsize                                       Household size including children\n",
       "Y11_Accommproblems                                Number of accommodation problems\n",
       "Y11_SocExIndex                                              Social Exclusion Index\n",
       "Y11_Q41                                                    Overall happiness score\n",
       "Y11_Q30                                                          Life satisfaction\n",
       "Y11_Q40a                                               Satisfaction with education\n",
       "Y11_Q40b                                             Satisfaction with present job\n",
       "Y11_Q40c                                      Satisfaction with standard of living\n",
       "Y11_Q40d                                           Satisfaction with accommodation\n",
       "Y11_Q40e                                             Satisfaction with family life\n",
       "Y11_Q40f                                                  Satisfaction with health\n",
       "Y11_Q40g                                             Satisfaction with social life\n",
       "Y11_Q7                                           Hours worked per week in main job\n",
       "Y11_Q24                                 Perception that most people can be trusted\n",
       "Y11_EmploymentStatus                                             Employment status\n",
       "Y11_Incomequartiles_percapita                Equivalised household-income quartile\n",
       "Y11_Deprindex                    Material-deprivation index (count of items the...\n",
       "Y11_RuralUrban                                          Area type: rural vs. urban\n",
       "Y11_Strainbasedconflict                                 Work-life balance conflict\n",
       "Y11_Q52                                       Total daily commuting time (minutes)\n",
       "Y11_Q15                          Perceived likelihood of losing current job in ...\n",
       "Y11_Q16                          Perceived chance of finding a similar-salary j...\n",
       "Y11_Q12a                         Frequency of coming home from work too tired f...\n",
       "Y11_Q50d                         Neighbourhood problem: crime, violence or vand...\n",
       "Y11_Q53a                                      Perceived quality of health services\n",
       "Y11_Q25a                         Perceived tension between poor and rich in cou...\n",
       "Name: description, dtype: object"
      ]
     },
     "execution_count": 11,
     "metadata": {},
     "output_type": "execute_result"
    }
   ],
   "source": [
    "data_dict[\"description\"]"
   ]
  },
  {
   "cell_type": "code",
   "execution_count": 12,
   "id": "23509837",
   "metadata": {},
   "outputs": [
    {
     "data": {
      "application/vnd.microsoft.datawrangler.viewer.v0+json": {
       "columns": [
        {
         "name": "causal_type",
         "rawType": "object",
         "type": "string"
        },
        {
         "name": "count",
         "rawType": "int64",
         "type": "integer"
        }
       ],
       "ref": "f90c6f9e-e616-4cb0-9c19-4242f943d8a2",
       "rows": [
        [
         "confounder",
         "40"
        ],
        [
         "outcome",
         "1"
        ],
        [
         "treatment",
         "1"
        ]
       ],
       "shape": {
        "columns": 1,
        "rows": 3
       }
      },
      "text/plain": [
       "causal_type\n",
       "confounder    40\n",
       "outcome        1\n",
       "treatment      1\n",
       "Name: count, dtype: int64"
      ]
     },
     "execution_count": 12,
     "metadata": {},
     "output_type": "execute_result"
    }
   ],
   "source": [
    "data_dict[\"causal_type\"].value_counts()"
   ]
  },
  {
   "cell_type": "code",
   "execution_count": 13,
   "id": "ca34782e",
   "metadata": {},
   "outputs": [
    {
     "data": {
      "application/vnd.microsoft.datawrangler.viewer.v0+json": {
       "columns": [
        {
         "name": "data_type",
         "rawType": "object",
         "type": "string"
        },
        {
         "name": "count",
         "rawType": "int64",
         "type": "integer"
        }
       ],
       "ref": "30c3468d-4418-4a87-9f03-d1abebf5a23b",
       "rows": [
        [
         "ordinal",
         "27"
        ],
        [
         "categorical_nominal",
         "7"
        ],
        [
         "numeric_continuous",
         "4"
        ],
        [
         "numeric_discrete",
         "3"
        ],
        [
         "categorical_binary",
         "1"
        ]
       ],
       "shape": {
        "columns": 1,
        "rows": 5
       }
      },
      "text/plain": [
       "data_type\n",
       "ordinal                27\n",
       "categorical_nominal     7\n",
       "numeric_continuous      4\n",
       "numeric_discrete        3\n",
       "categorical_binary      1\n",
       "Name: count, dtype: int64"
      ]
     },
     "execution_count": 13,
     "metadata": {},
     "output_type": "execute_result"
    }
   ],
   "source": [
    "data_dict[\"data_type\"].value_counts()"
   ]
  }
 ],
 "metadata": {
  "kernelspec": {
   "display_name": ".venv",
   "language": "python",
   "name": "python3"
  },
  "language_info": {
   "codemirror_mode": {
    "name": "ipython",
    "version": 3
   },
   "file_extension": ".py",
   "mimetype": "text/x-python",
   "name": "python",
   "nbconvert_exporter": "python",
   "pygments_lexer": "ipython3",
   "version": "3.13.3"
  }
 },
 "nbformat": 4,
 "nbformat_minor": 5
}
